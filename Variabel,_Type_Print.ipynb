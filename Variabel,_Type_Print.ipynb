{
  "nbformat": 4,
  "nbformat_minor": 0,
  "metadata": {
    "colab": {
      "name": "Variabel, Type Print.ipynb",
      "provenance": [],
      "collapsed_sections": [],
      "authorship_tag": "ABX9TyOSkZr56VlKJJimUehkl69V",
      "include_colab_link": true
    },
    "kernelspec": {
      "name": "python3",
      "display_name": "Python 3"
    },
    "language_info": {
      "name": "python"
    }
  },
  "cells": [
    {
      "cell_type": "markdown",
      "metadata": {
        "id": "view-in-github",
        "colab_type": "text"
      },
      "source": [
        "<a href=\"https://colab.research.google.com/github/khasanahdesi/VariabelDataType/blob/master/Variabel%2C_Type_Print.ipynb\" target=\"_parent\"><img src=\"https://colab.research.google.com/assets/colab-badge.svg\" alt=\"Open In Colab\"/></a>"
      ]
    },
    {
      "cell_type": "markdown",
      "metadata": {
        "id": "H0O5vzD7smW-"
      },
      "source": [
        "# Variabel sangat penting untuk digunakan untuk mempresentasikan sebuah nilai dalam pemrograman. Penggunaan variable sangat mempermudah untuk pembacaan code dan mmebuat code berjalan dengan baik. \n",
        "Beberapa tipe data yang biasa digunakan untuk mempresentasikan variabel \n",
        "1. Boolean (True or False) : benar bernilai 1 dan slah berilai 0\n",
        "2. String (\"asak\") mmenyatakan sebuah karakter atau kalimat. Ini dapat berupa angka dengan menggunakan tanda \"\"/''\n",
        "3. Integer (25,50) mempresentasikan bilangan bulat, tidak diserti keterangan tanda baca.\n",
        "4. Float (3.14 atau 0.99) untuk bilangan yang bernilai desimal aatau koma\n",
        "5. List ['xyz', 765, 2.23) data untaian yang menyimpan berbagai tipe data. Tipe data ini tidak dapat mengubah isiannya.\n",
        "6. Dictionary {'nama':'adi','id':2} merupakan data untaian yang menyimpan data berbagai pasangan penunjik nilai.\n",
        "\n",
        "Untuk mengetahui sebuah tipe data pada variabel, dapat menggunakan code print(type(nama_variabel))"
      ]
    },
    {
      "cell_type": "code",
      "metadata": {
        "colab": {
          "base_uri": "https://localhost:8080/"
        },
        "id": "x6u4r2UDsTue",
        "outputId": "a2f31a06-f5d6-49d8-dc26-60ff6fa449e1"
      },
      "source": [
        "# Menggunakan tipe data Boolean\n",
        "print (True)\n",
        "\n",
        "#Menggunakan Tipe Data string\n",
        "print (\"Hello World!\")\n",
        "print ('Hello world!')\n",
        "\n",
        "#Menggunakan tipe data Float\n",
        "print(3.14) # walapun bilangan desimal namun harus menggunakan titik bukan koma\n",
        "\n",
        "# Menggunakan tipe data List\n",
        "print ([1,2,3,4,5])\n",
        "print ([\"satu\",\"dua\",\"tiga\"])\n",
        "\n",
        "\n",
        "#Menggunakan tipe data tuple\n",
        "print ((1,2,3,4,5))\n",
        "print ((\"satu\", \"dua\", \"tiga\"))\n",
        "\n",
        "# Menggunakan tipe data Dictionary\n",
        "print ({\"nama\":\"Budi\", \"umur\":20})\n",
        "\n",
        "#Menggunakan tipe data Dictionary dan dimasukan kedalam variabel yang bernama \"Biodata\"\n",
        "biodata = {\"nama\":\"Andi\", \"umur\":21}\n",
        "print(biodata)\n"
      ],
      "execution_count": 3,
      "outputs": [
        {
          "output_type": "stream",
          "name": "stdout",
          "text": [
            "True\n",
            "Hello World!\n",
            "Hello world!\n",
            "3.14\n",
            "[1, 2, 3, 4, 5]\n",
            "['satu', 'dua', 'tiga']\n",
            "(1, 2, 3, 4, 5)\n",
            "('satu', 'dua', 'tiga')\n",
            "{'nama': 'Budi', 'umur': 20}\n",
            "{'nama': 'Andi', 'umur': 21}\n"
          ]
        }
      ]
    }
  ]
}